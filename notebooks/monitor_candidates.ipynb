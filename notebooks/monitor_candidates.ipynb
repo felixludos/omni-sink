{
 "cells": [
  {
   "cell_type": "code",
   "execution_count": 1,
   "id": "initial_id",
   "metadata": {
    "collapsed": true,
    "ExecuteTime": {
     "end_time": "2023-11-15T23:55:15.223668300Z",
     "start_time": "2023-11-15T23:55:14.571649100Z"
    }
   },
   "outputs": [],
   "source": [
    "from pathlib import Path\n",
    "import random\n",
    "from datetime import datetime, timedelta\n",
    "from tqdm.notebook import tqdm\n",
    "from tabulate import tabulate\n",
    "from omnibelt import human_readable_number, load_json, save_json\n",
    "import omnifig as fig\n",
    "from sink import database, misc\n",
    "# from sink.processing import recursive_collect_dupes\n",
    "import humanize\n",
    "import pandas as pd\n",
    "fig.initialize()"
   ]
  },
  {
   "cell_type": "code",
   "execution_count": 2,
   "outputs": [
    {
     "data": {
      "text/plain": "<sink.database.FileDatabase at 0x24a1fa32890>"
     },
     "execution_count": 2,
     "metadata": {},
     "output_type": "execute_result"
    }
   ],
   "source": [
    "db = fig.create_config(_type='file-db', db_path=misc.data_root() / 'largetest.db').pull(silent=True)\n",
    "db"
   ],
   "metadata": {
    "collapsed": false,
    "ExecuteTime": {
     "end_time": "2023-11-15T23:55:15.245828Z",
     "start_time": "2023-11-15T23:55:15.225670700Z"
    }
   },
   "id": "c080014b12611f55"
  },
  {
   "cell_type": "code",
   "execution_count": 3,
   "outputs": [
    {
     "data": {
      "text/plain": "True"
     },
     "execution_count": 3,
     "metadata": {},
     "output_type": "execute_result"
    }
   ],
   "source": [
    "base = Path(r'D:\\Trust')\n",
    "base.exists()"
   ],
   "metadata": {
    "collapsed": false,
    "ExecuteTime": {
     "end_time": "2023-11-15T23:55:15.246827300Z",
     "start_time": "2023-11-15T23:55:15.236699Z"
    }
   },
   "id": "e7b3e64cd72de299"
  },
  {
   "cell_type": "code",
   "execution_count": 4,
   "outputs": [],
   "source": [
    "# full_raw = load_json(misc.data_root() / 'kill.json')\n",
    "# klist = full_raw['targets']\n",
    "# clusters = full_raw['clusters']\n",
    "# reds = [Path(r) for r in full_raw['reds']]\n",
    "# len(klist), len(clusters), len(reds)"
   ],
   "metadata": {
    "collapsed": false,
    "ExecuteTime": {
     "end_time": "2023-11-15T23:55:15.246827300Z",
     "start_time": "2023-11-15T23:55:15.242745100Z"
    }
   },
   "id": "6ea766645d29670b"
  },
  {
   "cell_type": "code",
   "execution_count": 5,
   "outputs": [
    {
     "data": {
      "text/plain": "  0%|          | 0/44916 [00:00<?, ?it/s]",
      "application/vnd.jupyter.widget-view+json": {
       "version_major": 2,
       "version_minor": 0,
       "model_id": "500ff7614e86460b986f1908ba2624bd"
      }
     },
     "metadata": {},
     "output_type": "display_data"
    },
    {
     "data": {
      "text/plain": "(44916, 15760, 44916)"
     },
     "execution_count": 5,
     "metadata": {},
     "output_type": "execute_result"
    }
   ],
   "source": [
    "groups = [[Path(p) for p in ps] for ps in load_json(misc.data_root() / 'candidates.json')]\n",
    "cands = [p for group in groups for p in group]\n",
    "infos = {}\n",
    "for path in tqdm(cands):\n",
    "\tcode, (size, modtime) = db.find_path(path)\n",
    "\tinfos[path] = {'size': size, 'modtime': datetime.fromtimestamp(modtime), 'code': code}\n",
    "# for path in tqdm(reds):\n",
    "# \tif path not in infos:\n",
    "# \t\tcode, (size, modtime) = db.find_path(path)\n",
    "# \t\tinfos[path] = {'size': size, 'modtime': datetime.fromtimestamp(modtime), 'code': code}\n",
    "len(cands), len(groups), len(infos)"
   ],
   "metadata": {
    "collapsed": false,
    "ExecuteTime": {
     "end_time": "2023-11-15T23:55:18.955088600Z",
     "start_time": "2023-11-15T23:55:15.250835900Z"
    }
   },
   "id": "845d3b04193ffe4d"
  },
  {
   "cell_type": "code",
   "execution_count": 6,
   "outputs": [],
   "source": [
    "def get_info(path):\n",
    "\tif path not in infos:\n",
    "\t\tcode, (size, modtime) = db.find_path(path)\n",
    "\t\tinfos[path] = {'size': size, 'modtime': datetime.fromtimestamp(modtime), 'code': code}\n",
    "\treturn infos[path]\n",
    "def rank_path(path):\n",
    "\treturn 'old' in str(path).lower(), len(path.parents), len(path.name), len(str(path)), path.name"
   ],
   "metadata": {
    "collapsed": false,
    "ExecuteTime": {
     "end_time": "2023-11-15T23:55:18.966372100Z",
     "start_time": "2023-11-15T23:55:18.959344300Z"
    }
   },
   "id": "a24a86d7862cd08d"
  },
  {
   "cell_type": "code",
   "execution_count": 7,
   "outputs": [
    {
     "data": {
      "text/plain": "  0%|          | 0/44916 [00:00<?, ?it/s]",
      "application/vnd.jupyter.widget-view+json": {
       "version_major": 2,
       "version_minor": 0,
       "model_id": "0a56418ebe4e456ebc8e6541c41ceab3"
      }
     },
     "metadata": {},
     "output_type": "display_data"
    },
    {
     "data": {
      "text/plain": "111"
     },
     "execution_count": 7,
     "metadata": {},
     "output_type": "execute_result"
    }
   ],
   "source": [
    "codes = {}\n",
    "for path in tqdm(cands):\n",
    "\tcodes.setdefault(infos[path]['code'], []).append(path)\n",
    "\t\n",
    "codes = {code: cluster for code, cluster in codes.items() if any(p.is_file() for p in cluster) and any(p.is_dir() for p in cluster)}\n",
    "\n",
    "for code, cluster in codes.items():\n",
    "\t# if any(p.is_file() for p in cluster) and any(p.is_dir() for p in cluster):\n",
    "\t# \tcluster = [next(p.iterdir()) if p.is_dir() and len(list(p.iterdir())) == 1 else p for p in cluster]\n",
    "\tcodes[code] = sorted(cluster, key=rank_path)\n",
    "\n",
    "len(codes)"
   ],
   "metadata": {
    "collapsed": false,
    "ExecuteTime": {
     "end_time": "2023-11-15T23:55:21.280371200Z",
     "start_time": "2023-11-15T23:55:18.962362Z"
    }
   },
   "id": "a7f4ef0ec3789608"
  },
  {
   "cell_type": "code",
   "execution_count": 7,
   "outputs": [],
   "source": [],
   "metadata": {
    "collapsed": false,
    "ExecuteTime": {
     "end_time": "2023-11-15T23:55:21.280371200Z",
     "start_time": "2023-11-15T23:55:21.276366100Z"
    }
   },
   "id": "4aadbc6b94c05437"
  },
  {
   "cell_type": "code",
   "execution_count": 8,
   "outputs": [
    {
     "name": "stdout",
     "output_type": "stream",
     "text": [
      "--  ------  ---------  -------------------  -------------------------------------------------------------------------------------------------------------------\n",
      " 2  b494bb  360.1 MB   2020-02-11 23:43:05  D:\\Trust\\Music\\Audio Books\\Superintelligence Paths Danges Strategies\n",
      "                       2015-12-25 09:57:43  D:\\Trust\\Stuff\\Superintelligence\\Superintelligence_ Paths, Dangers, Strategies (Unabridged).m4a\n",
      " 3  22db64  142.5 MB   2020-02-12 17:32:20  D:\\Trust\\Files\\Extra Onedrive\\Shared\\cba\\cultural slides\n",
      "                       2013-06-03 06:28:40  D:\\Trust\\Files\\Khan 2013\\World History 2\\cba\\finals\\Eastern European Culture Returns.pptx\n",
      "                       2013-07-24 10:30:42  D:\\Trust\\Files\\Skydrive 2013-2014\\Old\\Eastern European Culture Returns.pptx\n",
      " 2  f35fdf  81.6 MB    2011-04-01 19:41:04  D:\\Trust\\Old\\Orion\\Videos\\Final Product Part 1.mp4\n",
      "                       2020-02-12 00:11:26  D:\\Trust\\Old\\Orion\\Videos\\New folder (2)\\ORION 4-1-2011 10.32.11 AM\\Canceled Encodes\n",
      " 2  9748a4  46.1 MB    2011-03-05 03:18:46  D:\\Trust\\Files\\King\\Sandisk All\\2010-11\\Other\\Computer Games\\AssaultCubePortable_1.1.0.4_English.paf.exe\n",
      "                       2020-02-11 23:28:56  D:\\Trust\\Old\\Artemis\\Documents\\Other\n",
      " 2  78bdd4  44.8 MB    2020-02-12 01:40:02  D:\\Trust\\Stuff\\Games\\Assault Cube\n",
      "                       2012-09-13 06:57:54  D:\\Trust\\Stuff\\Windows Programs\\AssaultCube_v1.1.0.4 (1).exe\n",
      " 5  9b0efb  5.9 MB     2016-06-03 23:36:43  D:\\Trust\\Files\\OneDrive 2015-2016\\Spring\\Computational Chemistry\\scientific-writing.pptx\n",
      "                       2020-02-12 17:39:48  D:\\Trust\\Files\\OneDrive 2015-2016\\Spring\\Computational Chemistry\\class files\\unfiled\n",
      "                       2016-06-20 08:15:48  D:\\Trust\\Files\\OneDrive 2015-2016\\Spring\\Computational Chemistry\\class files\\scientific-writing.pptx\n",
      "                       2020-02-12 17:47:14  D:\\Trust\\Files\\Research\\MDResearch\\alkanes\\old ab initio\\class files\\unfiled\n",
      "                       2016-06-20 08:15:48  D:\\Trust\\Files\\Research\\MDResearch\\alkanes\\old ab initio\\class files\\scientific-writing.pptx\n",
      " 2  f53cd9  5.8 MB     2020-02-12 01:42:52  D:\\Trust\\Stuff\\School Stuff\n",
      "                       2011-03-30 04:02:54  D:\\Trust\\Files\\King\\Sandisk All\\2010-11\\Social Studies\\Sleeper Project 7.pptx\n",
      " 3  b56f7b  4.1 MB     2012-09-26 16:31:47  D:\\Trust\\Files\\Skydrive 2012-2013\\Other\\European Conquest\\European Conquest.exe\n",
      "                       2020-02-12 17:33:55  D:\\Trust\\Files\\Khan 2013\\Semester 1\\Other\\spiele\\EC\n",
      "                       2020-02-12 18:03:45  D:\\Trust\\Files\\Skydrive 2012-2013\\Semester 1\\Other\\spiele\\EC\n",
      " 2  945734  2.3 MB     2020-02-12 00:09:07  D:\\Trust\\Old\\Orion\\Music\\music\\transfer\n",
      "                       2011-10-21 06:17:18  D:\\Trust\\Old\\Orion\\Music\\music\\CD\\Human Beinz - Nobody But Me.mp3\n",
      " 2  50c4dc  2.0 MB     2018-02-13 18:37:10  D:\\Trust\\Files\\OneDrive 2017-2018\\Winter\\Inorganic Lab\\linkage\\analysis.ipynb\n",
      "                       2020-02-12 17:43:07  D:\\Trust\\Files\\OneDrive 2017-2018\\Winter\\Inorganic Lab\\linkage\\.ipynb_checkpoints\n",
      " 7  f86430  990.6 kB   2013-02-17 10:32:27  D:\\Trust\\Pictures\\iphone_pictures\\IMG_4326.JPG\n",
      "                       2013-02-17 10:32:12  D:\\Trust\\Pictures\\ipad\\109CLOUD\\IMG_4326.JPG\n",
      "                       2013-02-17 10:32:23  D:\\Trust\\Pictures\\ipad\\110CLOUD\\IMG_4326.JPG\n",
      "                       2013-02-17 10:32:27  D:\\Trust\\Pictures\\ipad\\111CLOUD\\IMG_4326.JPG\n",
      "                       2020-02-12 19:58:18  D:\\Trust\\Backups\\Hestia\\pictures\\Camera Roll\\110CLOUD\n",
      "                       2013-02-17 10:32:27  D:\\Trust\\Backups\\Hestia\\pictures\\Camera Roll\\109CLOUD\\IMG_4326.JPG\n",
      "                       2013-02-17 10:32:23  D:\\Trust\\Backups\\Hestia\\pictures\\Camera Roll\\111CLOUD\\IMG_4326.JPG\n",
      " 2  165bb2  469.6 kB   2020-02-12 17:46:59  D:\\Trust\\Files\\Research\\MDResearch\\alkanes\\analysis\\.ipynb_checkpoints\n",
      "                       2017-07-25 19:31:34  D:\\Trust\\Files\\Research\\MDResearch\\alkanes\\analysis\\alkane_analysis.ipynb\n",
      " 2  09bd98  434.5 kB   2020-02-12 17:45:47  D:\\Trust\\Files\\Research\\AIResearch\\pose_rl\\se3nets-pytorch\\arm\\.ipynb_checkpoints\n",
      "                       2019-06-13 08:41:49  D:\\Trust\\Files\\Research\\AIResearch\\pose_rl\\se3nets-pytorch\\arm\\test_arm_env.ipynb\n",
      " 2  2d37bb  417.2 kB   2020-02-12 00:09:13  D:\\Trust\\Old\\Orion\\Pictures\\Blog\n",
      "                       2010-09-05 22:19:27  D:\\Trust\\Old\\Orion\\Pictures\\Other\\ipod.png\n",
      " 3  e58ed1  293.0 kB   2020-02-12 17:32:46  D:\\Trust\\Files\\Khan 2012\\Advanced Algebra\n",
      "                       2020-02-12 17:33:10  D:\\Trust\\Files\\Khan 2012\\Semester 1\\Advanced Algebra\n",
      "                       2011-09-30 05:51:19  D:\\Trust\\Old\\Orion\\Documents\\Car Loan Project.docx\n",
      " 2  f8fcdc  152.6 kB   2016-08-17 04:01:46  D:\\Trust\\Files\\OneDrive 2015-2016\\Summer\\Modern Mechanics\\225sum16exam2soln.pdf\n",
      "                       2020-02-12 17:40:09  D:\\Trust\\Files\\OneDrive 2015-2016\\Summer\\Modern Mechanics\\Most Recent Exam Solution\n",
      " 2  b77672  122.8 kB   2018-01-30 08:52:09  D:\\Trust\\Files\\OneDrive 2017-2018\\Winter\\Statistical Models\\hw1\\hw1.ipynb\n",
      "                       2020-02-12 17:43:12  D:\\Trust\\Files\\OneDrive 2017-2018\\Winter\\Statistical Models\\hw1\\.ipynb_checkpoints\n",
      " 2  9e74ca  107.2 kB   2019-01-28 12:21:26  D:\\Trust\\Files\\OneDrive 2018-2019\\Winter\\Robotics\\Untitled.ipynb\n",
      "                       2020-02-12 17:44:42  D:\\Trust\\Files\\OneDrive 2018-2019\\Winter\\Robotics\\.ipynb_checkpoints\n",
      " 3  dd3172  85.3 kB    2020-01-14 00:37:20  D:\\Trust\\Files\\Nextcloud 2019-2020\\projects\\humpack\\extra\\logo-border.png\n",
      "                       2020-02-12 20:06:54  D:\\Trust\\Files\\Nextcloud 2019-2020\\projects\\humpack\\docs\\_build\\html\\_static\\img\n",
      "                       2020-01-14 00:37:20  D:\\Trust\\Files\\Nextcloud 2019-2020\\projects\\humpack\\docs\\_build\\html\\_static\\logo_border.png\n",
      " 4  1b69e1  75.5 kB    2011-08-02 15:30:55  D:\\Trust\\Stuff\\Soldiers vs. Masks\\Logo.png\n",
      "                       2011-08-02 15:30:55  D:\\Trust\\Old\\Orion\\Pictures\\The FHysics People\\Logo.png\n",
      "                       2011-08-02 15:30:55  D:\\Trust\\Old\\Orion\\Documents\\Soldiers vs. Masks\\Logo.png\n",
      "                       2020-02-12 00:10:28  D:\\Trust\\Old\\Orion\\Pictures\\Other\\The FHysics people\n",
      " 2  599386  63.3 kB    2017-01-04 03:34:58  D:\\Trust\\Backups\\Atlas\\downloads\\fonts\\CARERRA-Jones.otf\n",
      "                       2020-02-12 17:47:33  D:\\Trust\\Files\\Research\\MDResearch\\condensing-effect\\winter\\poster\\fonts\n",
      " 3  87fa05  63.1 kB    2010-10-07 06:34:30  D:\\Trust\\Old\\Orion\\Documents\\ss do i have a right game results.docx\n",
      "                       2010-10-07 06:34:30  D:\\Trust\\Old\\Artemis\\Documents\\ss do i have a right game results.docx\n",
      "                       2020-02-12 00:09:02  D:\\Trust\\Old\\Orion\\Documents\\USB\\Social Studies\n",
      " 2  3d39bf  38.6 kB    2020-02-12 01:39:59  D:\\Trust\\Stuff\\Games\\Arhimas prophesy\\Ahriman's Prophecy\\GameOver\n",
      "                       2003-08-25 06:40:20  D:\\Trust\\Stuff\\Games\\Arhimas prophesy\\Ahriman's Prophecy\\Panorama\\GameOver.png\n",
      " 3  a9c92b  27.3 kB    2019-09-07 18:04:31  D:\\Trust\\Files\\OneDrive 2018-2019\\Other\\gsm\\path4553.png\n",
      "                       2019-09-07 18:04:31  D:\\Trust\\Files\\Nextcloud 2019-2020\\projects\\gsm\\extra\\logo.png\n",
      "                       2020-02-12 20:06:49  D:\\Trust\\Files\\Nextcloud 2019-2020\\projects\\gsm\\docs\\_static\\img\n",
      " 2  9defa5  26.0 kB    2016-11-04 21:07:07  D:\\Trust\\Files\\Research\\MDResearch\\notebook\\p2 analysis\\analysis.ipynb\n",
      "                       2020-02-12 17:47:43  D:\\Trust\\Files\\Research\\MDResearch\\notebook\\p2 analysis\\.ipynb_checkpoints\n",
      " 2  4a146e  23.4 kB    2020-02-12 18:04:11  D:\\Trust\\Files\\Skydrive 2013-2014\\Old\\Artifacts\\sem 4\\raws\n",
      "                       2014-06-11 20:02:29  D:\\Trust\\Files\\Skydrive 2014-2015\\Old\\Artifacts\\sem 4\\raws\\comp sci.docx\n",
      " 2  e81790  22.6 kB    2019-02-07 21:49:20  D:\\Trust\\Files\\OneDrive 2018-2019\\Winter\\Quantum Computing\\qc_intro\\py-primer.ipynb\n",
      "                       2020-02-12 17:44:35  D:\\Trust\\Files\\OneDrive 2018-2019\\Winter\\Quantum Computing\\qc_intro\\.ipynb_checkpoints\n",
      " 2  7bdd3f  18.6 kB    2017-09-15 01:13:11  D:\\Trust\\Files\\Research\\AIResearch\\se3_control\\cartpole\\ddpg_pendulum\\run_ddpg.ipynb\n",
      "                       2020-02-12 17:46:02  D:\\Trust\\Files\\Research\\AIResearch\\se3_control\\cartpole\\ddpg_pendulum\\.ipynb_checkpoints\n",
      " 5  f82c1c  15.3 kB    2020-02-12 17:35:37  D:\\Trust\\Files\\King\\Sandisk\\Semester 1\\Fitness\n",
      "                       2020-02-12 17:36:40  D:\\Trust\\Files\\King\\Sandisk All\\2010-11\\Semester 1\\Fitness\n",
      "                       2010-11-15 01:36:17  D:\\Trust\\Old\\Orion\\Documents\\Fitness Essay.docx\n",
      "                       2010-11-15 01:36:17  D:\\Trust\\Old\\Artemis\\Documents\\Fitness Essay.docx\n",
      "                       2010-11-14 23:36:18  D:\\Trust\\Files\\Khan 2012\\Semester 1\\Old\\Old Fitness Essay.docx\n",
      " 8  692407  11.5 kB    2020-02-12 17:34:53  D:\\Trust\\Files\\King\\Kingston\\mars work\n",
      "                       2020-02-12 17:38:40  D:\\Trust\\Files\\New King\\Kingston\\mars work\n",
      "                       2002-01-03 00:06:46  D:\\Trust\\Files\\King\\Anwang\\for Vienna\\Documents\\Pilot.docx\n",
      "                       2002-01-03 00:06:46  D:\\Trust\\Files\\New King\\Anwang\\for Vienna\\Documents\\Pilot.docx\n",
      "                       2002-01-03 00:06:46  D:\\Trust\\Files\\King\\Anwang\\for Vienna\\Documents\\Documents\\Pilot.docx\n",
      "                       2002-01-03 00:06:46  D:\\Trust\\Files\\New King\\Anwang\\for Vienna\\Documents\\Documents\\Pilot.docx\n",
      "                       2020-02-12 17:35:40  D:\\Trust\\Files\\King\\Sandisk\\Semester 1\\Old\\mars work\n",
      "                       2020-02-12 17:36:43  D:\\Trust\\Files\\King\\Sandisk All\\2010-11\\Semester 1\\Old\\mars work\n",
      " 2  0a6516  8.3 kB     2020-02-12 17:43:40  D:\\Trust\\Files\\OneDrive 2018-2019\\Other\\humpack\\git\\.git\\objects\\a1\n",
      "                       2019-10-08 10:08:32  D:\\Trust\\Files\\Nextcloud 2019-2020\\projects\\humpack\\.git\\objects\\a1\\59361d6d512cc68a7266fef98dc7ee353d24c5\n",
      " 2  833436  6.9 kB     2020-02-12 17:43:40  D:\\Trust\\Files\\OneDrive 2018-2019\\Other\\humpack\\git\\.git\\objects\\d1\n",
      "                       2019-09-30 23:50:12  D:\\Trust\\Files\\Nextcloud 2019-2020\\projects\\humpack\\.git\\objects\\d1\\45e6c3abdf1e4fb869f7652e1b1348feb0e961\n",
      " 2  e0e87b  6.9 kB     2020-02-12 17:43:40  D:\\Trust\\Files\\OneDrive 2018-2019\\Other\\humpack\\git\\.git\\objects\\3e\n",
      "                       2019-10-04 23:24:06  D:\\Trust\\Files\\Nextcloud 2019-2020\\projects\\humpack\\.git\\objects\\3e\\ecae8ac82e09580dc24a448e9708da5b2ea6d9\n",
      " 2  4e87c8  6.9 kB     2020-02-12 17:43:40  D:\\Trust\\Files\\OneDrive 2018-2019\\Other\\humpack\\git\\.git\\objects\\13\n",
      "                       2019-10-04 23:24:06  D:\\Trust\\Files\\Nextcloud 2019-2020\\projects\\humpack\\.git\\objects\\13\\0e0dc15267d590fc2bfe8ef5cf671c10954643\n",
      " 5  9cb823  5.2 kB     2020-02-12 17:46:59  D:\\Trust\\Files\\Research\\MDResearch\\alkanes\\auto\\.vscode\n",
      "                       2020-02-12 17:41:52  D:\\Trust\\Files\\OneDrive 2016-2017\\Winter\\Machine Learning\\hw 4\\.vscode\n",
      "                       2020-02-12 17:41:54  D:\\Trust\\Files\\OneDrive 2016-2017\\Winter\\Machine Learning\\project\\.vscode\n",
      "                       2020-02-12 17:41:41  D:\\Trust\\Files\\OneDrive 2016-2017\\Winter\\Artificial Intelligence\\classification\\.vscode\n",
      "                       2017-01-30 01:59:11  D:\\Trust\\Files\\OneDrive 2016-2017\\Winter\\Artificial Intelligence\\multiagent\\.vscode\\launch.json\n",
      " 2  340ef4  4.7 kB     2020-02-12 17:46:04  D:\\Trust\\Files\\Research\\AIResearch\\se3_control\\se3\\.ipynb_checkpoints\n",
      "                       2017-09-12 23:24:41  D:\\Trust\\Files\\Research\\AIResearch\\se3_control\\se3\\main_ctrlnets_cartpole.ipynb\n",
      " 2  e94515  4.6 kB     2014-06-02 14:22:42  D:\\Trust\\Files\\Research\\MDResearch\\condensing-effect\\fall\\hyak\\pyvoro-1.3.2\\pyvoro\\__init__.py\n",
      "                       2020-02-12 17:47:16  D:\\Trust\\Files\\Research\\MDResearch\\condensing-effect\\fall\\hyak\\pyvoro-1.3.2\\build\\lib.linux-x86_64-2.7\\pyvoro\n",
      " 9  0d1ac3  3.8 kB     2020-02-12 17:41:51  D:\\Trust\\Files\\OneDrive 2016-2017\\Winter\\Machine Learning\\fun\\.vscode\n",
      "                       2020-02-12 17:41:51  D:\\Trust\\Files\\OneDrive 2016-2017\\Winter\\Machine Learning\\hw 1\\.vscode\n",
      "                       2020-02-12 17:41:52  D:\\Trust\\Files\\OneDrive 2016-2017\\Winter\\Machine Learning\\hw 3\\.vscode\n",
      "                       2020-02-12 17:41:45  D:\\Trust\\Files\\OneDrive 2016-2017\\Winter\\Artificial Intelligence\\tracking\\.vscode\n",
      "                       2020-02-12 17:41:43  D:\\Trust\\Files\\OneDrive 2016-2017\\Winter\\Artificial Intelligence\\p1-search\\.vscode\n",
      "                       2020-02-12 17:40:21  D:\\Trust\\Files\\OneDrive 2016-2017\\Fall\\Algorithms\\git\\p2-zoltar\\.vscode\n",
      "                       2020-02-12 17:47:24  D:\\Trust\\Files\\Research\\MDResearch\\condensing-effect\\spring\\analysis\\.vscode\n",
      "                       2017-02-03 20:44:34  D:\\Trust\\Files\\OneDrive 2016-2017\\Winter\\Machine Learning\\hw 2\\.vscode\\launch.json\n",
      "                       2016-11-08 23:13:20  D:\\Trust\\Files\\OneDrive 2016-2017\\Fall\\Theory of Computing\\NaiveBayes\\.vscode\\launch.json\n",
      " 2  4d59dd  3.5 kB     2020-02-12 17:43:40  D:\\Trust\\Files\\OneDrive 2018-2019\\Other\\humpack\\git\\.git\\objects\\09\n",
      "                       2019-10-08 10:13:55  D:\\Trust\\Files\\Nextcloud 2019-2020\\projects\\humpack\\.git\\objects\\09\\13a3bc1c2ec3ab2da710655650ccfa26f70edd\n",
      " 2  bc062e  3.5 kB     2020-02-12 17:43:40  D:\\Trust\\Files\\OneDrive 2018-2019\\Other\\humpack\\git\\.git\\objects\\f5\n",
      "                       2019-10-05 00:31:53  D:\\Trust\\Files\\Nextcloud 2019-2020\\projects\\humpack\\.git\\objects\\f5\\8f7bb3f2bb034079840e0f376f41319fbdf638\n",
      " 2  fb0461  3.1 kB     2020-02-12 17:44:07  D:\\Trust\\Files\\OneDrive 2018-2019\\Spring\\Robust Control\\.ipynb_checkpoints\n",
      "                       2019-04-03 21:53:28  D:\\Trust\\Files\\OneDrive 2018-2019\\Spring\\Robust Control\\594-sp19-hw0.ipynb\n",
      " 2  9984e0  3.1 kB     2020-02-12 17:43:40  D:\\Trust\\Files\\OneDrive 2018-2019\\Other\\humpack\\git\\.git\\objects\\9a\n",
      "                       2019-10-05 00:08:22  D:\\Trust\\Files\\Nextcloud 2019-2020\\projects\\humpack\\.git\\objects\\9a\\1d37b60e1770caeb5682ac2536e3fa634984f6\n",
      " 2  d20736  3.1 kB     2020-02-12 17:43:40  D:\\Trust\\Files\\OneDrive 2018-2019\\Other\\humpack\\git\\.git\\objects\\c1\n",
      "                       2019-10-04 23:24:06  D:\\Trust\\Files\\Nextcloud 2019-2020\\projects\\humpack\\.git\\objects\\c1\\cdfb6897deac36fc244890a5495a7673eca30d\n",
      " 2  dfcdaf  3.1 kB     2020-02-12 17:43:40  D:\\Trust\\Files\\OneDrive 2018-2019\\Other\\humpack\\git\\.git\\objects\\48\n",
      "                       2019-10-03 23:17:47  D:\\Trust\\Files\\Nextcloud 2019-2020\\projects\\humpack\\.git\\objects\\48\\a6dea5cc78a349cff19a84f461b3232252ac52\n",
      " 2  6ec1cf  2.9 kB     2020-01-30 22:14:43  D:\\Trust\\Files\\Nextcloud 2019-2020\\research\\foundation\\.git\\logs\\HEAD\n",
      "                       2020-02-12 20:07:00  D:\\Trust\\Files\\Nextcloud 2019-2020\\research\\foundation\\.git\\logs\\refs\\heads\n",
      " 2  83568c  2.5 kB     2016-11-21 20:31:48  D:\\Trust\\Files\\OneDrive 2016-2017\\Fall\\Algorithms\\git\\p2-zoltar\\.git\\logs\\HEAD\n",
      "                       2020-02-12 17:40:20  D:\\Trust\\Files\\OneDrive 2016-2017\\Fall\\Algorithms\\git\\p2-zoltar\\.git\\logs\\refs\\heads\n",
      " 2  400edf  2.4 kB     2017-08-16 21:15:24  D:\\Trust\\Files\\Research\\AIResearch\\rl\\.git\\logs\\HEAD\n",
      "                       2020-02-12 17:45:51  D:\\Trust\\Files\\Research\\AIResearch\\rl\\.git\\logs\\refs\\heads\n",
      " 2  cf6f3b  2.2 kB     2019-10-08 10:13:59  D:\\Trust\\Files\\OneDrive 2018-2019\\Other\\humpack\\git\\.git\\logs\\HEAD\n",
      "                       2020-02-12 17:43:39  D:\\Trust\\Files\\OneDrive 2018-2019\\Other\\humpack\\git\\.git\\logs\\refs\\heads\n",
      " 2  509987  2.0 kB     2020-02-12 17:42:19  D:\\Trust\\Files\\OneDrive 2017-2018\\Spring\\DeepRL\\drl_hw1\\.git\\objects\\12\n",
      "                       2019-03-09 23:06:30  D:\\Trust\\Files\\Research\\AIResearch\\foundation\\.git\\objects\\12\\af0efdc66e483efb2dc0b65c5acd57bfbcbe36\n",
      " 2  7de078  1.8 kB     2020-02-12 17:46:59  D:\\Trust\\Files\\Research\\MDResearch\\alkanes\\amberff\\.ipynb_checkpoints\n",
      "                       2017-07-07 00:17:55  D:\\Trust\\Files\\Research\\MDResearch\\alkanes\\amberff\\gaff_param_tests.ipynb\n",
      " 2  acdbd8  1.8 kB     2016-11-23 08:03:03  D:\\Trust\\Files\\OneDrive 2016-2017\\Fall\\Algorithms\\git\\p3-paris\\.git\\logs\\HEAD\n",
      "                       2020-02-12 17:40:24  D:\\Trust\\Files\\OneDrive 2016-2017\\Fall\\Algorithms\\git\\p3-paris\\.git\\logs\\refs\\heads\n",
      " 2  bddf0a  1.7 kB     2020-02-12 17:45:52  D:\\Trust\\Files\\Research\\AIResearch\\rl\\.git\\objects\\97\n",
      "                       2017-08-04 19:09:30  D:\\Trust\\Files\\Research\\AIResearch\\rl\\ddpg\\DDPG\\.git\\objects\\97\\2c5ba9af60bae7758a6ca958747b661fea67d8\n",
      " 2  6c37d1  1.6 kB     2017-08-16 20:16:41  D:\\Trust\\Files\\Research\\AIResearch\\rl\\.git\\objects\\02\\c98653cd61f706d83732dd1fd8ec13f4f4f02a\n",
      "                       2020-02-12 17:45:54  D:\\Trust\\Files\\Research\\AIResearch\\rl\\ddpg\\DDPG\\.git\\objects\\02\n",
      " 2  d4bd62  1.5 kB     2017-08-16 20:16:41  D:\\Trust\\Files\\Research\\AIResearch\\rl\\.git\\objects\\71\\875de2b91f4fbbe5bc2422208563619e176a97\n",
      "                       2020-02-12 17:45:54  D:\\Trust\\Files\\Research\\AIResearch\\rl\\ddpg\\DDPG\\.git\\objects\\71\n",
      " 2  14fc2a  1.4 kB     2017-08-16 20:16:41  D:\\Trust\\Files\\Research\\AIResearch\\rl\\.git\\objects\\b1\\a338d8e6d496bde8754c565a97c1373008aac9\n",
      "                       2020-02-12 17:45:54  D:\\Trust\\Files\\Research\\AIResearch\\rl\\ddpg\\DDPG\\.git\\objects\\b1\n",
      " 3  658ca4  1.3 kB     2020-02-12 17:37:23  D:\\Trust\\Files\\Mercenary 2014\\computer Science\\GridWorldCode\\projects\\firstProject\n",
      "                       2014-03-12 17:21:20  D:\\Trust\\Files\\Mercenary 2014\\computer Science\\GridWorld\\src\\BugRunner.java\n",
      "                       2014-03-12 17:21:20  D:\\Trust\\Files\\Mercenary 2014\\computer Science\\GridWorld\\GridWorld\\src\\BugRunner.java\n",
      " 2  7c4229  1.3 kB     2017-08-16 20:16:41  D:\\Trust\\Files\\Research\\AIResearch\\rl\\.git\\objects\\af\\8b2caad67ef919dceb6ad7be0ef57d687bb8d1\n",
      "                       2020-02-12 17:45:54  D:\\Trust\\Files\\Research\\AIResearch\\rl\\ddpg\\DDPG\\.git\\objects\\af\n",
      " 2  43f8ce  1.1 kB     2020-02-12 17:43:40  D:\\Trust\\Files\\OneDrive 2018-2019\\Other\\humpack\\git\\.git\\objects\\9e\n",
      "                       2019-12-27 15:11:06  D:\\Trust\\Files\\Nextcloud 2019-2020\\projects\\humpack\\.git\\objects\\9e\\f3927e817c86356dc7ce9722ce00739f0bfa83\n",
      " 3  66074b  1.0 kB     2020-02-12 17:45:53  D:\\Trust\\Files\\Research\\AIResearch\\rl\\.git\\objects\\cc\n",
      "                       2018-08-11 20:04:19  D:\\Trust\\Files\\Research\\AIResearch\\pose_rl\\se3nets-pytorch\\.git\\objects\\cc\\7dd2650fe9852ba7f61e4488f407ae88635632\n",
      "                       2017-08-04 19:09:30  D:\\Trust\\Files\\Research\\AIResearch\\rl\\ddpg\\DDPG\\.git\\objects\\cc\\7dd2650fe9852ba7f61e4488f407ae88635632\n",
      " 2  fce4db  891 Bytes  2020-02-12 17:42:20  D:\\Trust\\Files\\OneDrive 2017-2018\\Spring\\DeepRL\\drl_hw1\\.git\\objects\\93\n",
      "                       2019-03-09 23:06:30  D:\\Trust\\Files\\Research\\AIResearch\\foundation\\.git\\objects\\93\\1e64ca6fef9166198d5f37550f2443088c7c07\n",
      " 2  4ca08f  855 Bytes  2020-02-12 17:43:40  D:\\Trust\\Files\\OneDrive 2018-2019\\Other\\humpack\\git\\.git\\objects\\a9\n",
      "                       2020-01-14 01:27:29  D:\\Trust\\Files\\Nextcloud 2019-2020\\projects\\humpack\\.git\\objects\\a9\\d3f817a53075c62cd79c4d682a6fe2d772cbec\n",
      " 3  142800  701 Bytes  2020-02-12 17:42:19  D:\\Trust\\Files\\OneDrive 2017-2018\\Spring\\DeepRL\\drl_hw1\\.git\\objects\\2e\n",
      "                       2018-05-10 22:39:26  D:\\Trust\\Files\\Research\\AIResearch\\foundation\\.git\\objects\\2e\\d6c1ade2bb2c529314d57e4e0ef167f6fad5a4\n",
      "                       2018-04-21 11:20:35  D:\\Trust\\Files\\Research\\AIResearch\\pose_rl\\se3nets-pytorch\\.git\\objects\\2e\\d6c1ade2bb2c529314d57e4e0ef167f6fad5a4\n",
      " 2  f12ded  619 Bytes  2020-02-12 17:42:19  D:\\Trust\\Files\\OneDrive 2017-2018\\Spring\\DeepRL\\drl_hw1\\.git\\objects\\58\n",
      "                       2018-01-22 23:11:43  D:\\Trust\\Files\\Research\\AIResearch\\pose_rl\\se3nets-pytorch\\.git\\objects\\58\\014bba8f789ffa159a71326bbf92d40af3a804\n",
      " 2  521f67  600 Bytes  2020-02-12 17:42:20  D:\\Trust\\Files\\OneDrive 2017-2018\\Spring\\DeepRL\\drl_hw1\\.git\\objects\\ca\n",
      "                       2018-05-10 22:39:26  D:\\Trust\\Files\\Research\\AIResearch\\foundation\\.git\\objects\\ca\\084cf44be05817c6edd748db6d9139c8b95ce5\n",
      " 2  0ec02f  550 Bytes  2020-02-12 17:43:40  D:\\Trust\\Files\\OneDrive 2018-2019\\Other\\humpack\\git\\.git\\objects\\b6\n",
      "                       2019-09-29 15:19:04  D:\\Trust\\Files\\Nextcloud 2019-2020\\projects\\humpack\\.git\\objects\\b6\\94769b3d263088d669b0c4461bdcf0c18fcc7e\n",
      " 2  24682d  514 Bytes  2020-02-12 17:43:40  D:\\Trust\\Files\\OneDrive 2018-2019\\Other\\humpack\\git\\.git\\objects\\f1\n",
      "                       2019-09-29 13:54:45  D:\\Trust\\Files\\Nextcloud 2019-2020\\projects\\humpack\\.git\\objects\\f1\\8e2707151ff40d24a519e5b25c76e554500312\n",
      " 2  904be0  446 Bytes  2020-02-12 17:43:40  D:\\Trust\\Files\\OneDrive 2018-2019\\Other\\humpack\\git\\.git\\objects\\28\n",
      "                       2019-10-05 00:31:54  D:\\Trust\\Files\\Nextcloud 2019-2020\\projects\\humpack\\.git\\objects\\28\\f0222a23261f7f7a69834d3f55dbc21d33d19c\n",
      " 2  395296  446 Bytes  2020-02-12 17:43:40  D:\\Trust\\Files\\OneDrive 2018-2019\\Other\\humpack\\git\\.git\\objects\\d0\n",
      "                       2019-10-04 23:24:08  D:\\Trust\\Files\\Nextcloud 2019-2020\\projects\\humpack\\.git\\objects\\d0\\408dd5d5acd78075227d734ddb845243ee4651\n",
      " 2  6d5596  415 Bytes  2020-02-12 17:43:40  D:\\Trust\\Files\\OneDrive 2018-2019\\Other\\humpack\\git\\.git\\objects\\e2\n",
      "                       2020-01-14 01:27:29  D:\\Trust\\Files\\Nextcloud 2019-2020\\projects\\humpack\\.git\\objects\\e2\\e81480bd83c5373c5c4774f188b05b5f109d51\n",
      " 3  ec42b8  374 Bytes  2017-08-16 20:16:41  D:\\Trust\\Files\\Research\\AIResearch\\rl\\.git\\objects\\a1\\41304a2770b8ac6c6cd04afe30c7aa5e3e1385\n",
      "                       2020-02-12 17:45:54  D:\\Trust\\Files\\Research\\AIResearch\\rl\\ddpg\\DDPG\\.git\\objects\\a1\n",
      "                       2018-08-11 20:04:19  D:\\Trust\\Files\\Research\\AIResearch\\pose_rl\\se3nets-pytorch\\.git\\objects\\a1\\41304a2770b8ac6c6cd04afe30c7aa5e3e1385\n",
      " 2  b39b50  328 Bytes  2020-02-12 17:43:40  D:\\Trust\\Files\\OneDrive 2018-2019\\Other\\humpack\\git\\.git\\objects\\f6\n",
      "                       2019-10-04 23:24:06  D:\\Trust\\Files\\Nextcloud 2019-2020\\projects\\humpack\\.git\\objects\\f6\\48e5af21c286637131d75a4e916d491d64d1e3\n",
      " 2  bfa988  325 Bytes  2018-04-24 01:12:27  D:\\Trust\\Files\\OneDrive 2017-2018\\Spring\\DeepRL\\drl_hw1\\.git\\logs\\HEAD\n",
      "                       2020-02-12 17:42:19  D:\\Trust\\Files\\OneDrive 2017-2018\\Spring\\DeepRL\\drl_hw1\\.git\\logs\\refs\\heads\n",
      " 2  a47c25  321 Bytes  2020-01-04 15:49:14  D:\\Trust\\Files\\Nextcloud 2019-2020\\projects\\viduludo\\code\\.git\\logs\\HEAD\n",
      "                       2020-02-12 20:06:55  D:\\Trust\\Files\\Nextcloud 2019-2020\\projects\\viduludo\\code\\.git\\logs\\refs\\heads\n",
      " 2  d2f17a  292 Bytes  2020-02-12 17:43:39  D:\\Trust\\Files\\OneDrive 2018-2019\\Other\\humpack\\git\\.git\\objects\\03\n",
      "                       2019-09-29 18:47:47  D:\\Trust\\Files\\Nextcloud 2019-2020\\projects\\humpack\\.git\\objects\\03\\cd11d4466ee73278427c17413b37ecfc661f34\n",
      " 2  230bb1  292 Bytes  2020-02-12 17:43:40  D:\\Trust\\Files\\OneDrive 2018-2019\\Other\\humpack\\git\\.git\\objects\\18\n",
      "                       2019-10-05 00:30:09  D:\\Trust\\Files\\Nextcloud 2019-2020\\projects\\humpack\\.git\\objects\\18\\2f1b9727c9fe8ce52cd1ba372ca4cacfddcdfa\n",
      " 2  a41605  292 Bytes  2020-02-12 17:43:40  D:\\Trust\\Files\\OneDrive 2018-2019\\Other\\humpack\\git\\.git\\objects\\32\n",
      "                       2019-10-02 09:14:10  D:\\Trust\\Files\\Nextcloud 2019-2020\\projects\\humpack\\.git\\objects\\32\\70ef6a1907908e369961e3b1099c99698d423a\n",
      " 2  a93c6a  292 Bytes  2020-02-12 17:43:40  D:\\Trust\\Files\\OneDrive 2018-2019\\Other\\humpack\\git\\.git\\objects\\91\n",
      "                       2019-10-08 10:13:56  D:\\Trust\\Files\\Nextcloud 2019-2020\\projects\\humpack\\.git\\objects\\91\\5d0d45dedff712658b898133b2067b3d478dff\n",
      " 2  9e31f2  292 Bytes  2020-02-12 17:43:40  D:\\Trust\\Files\\OneDrive 2018-2019\\Other\\humpack\\git\\.git\\objects\\a8\n",
      "                       2019-10-03 23:17:48  D:\\Trust\\Files\\Nextcloud 2019-2020\\projects\\humpack\\.git\\objects\\a8\\43eb5d9407acc746d2b30756271e41840394be\n",
      " 2  81f0d9  291 Bytes  2020-02-12 17:43:40  D:\\Trust\\Files\\OneDrive 2018-2019\\Other\\humpack\\git\\.git\\objects\\a3\n",
      "                       2019-09-30 23:50:14  D:\\Trust\\Files\\Nextcloud 2019-2020\\projects\\humpack\\.git\\objects\\a3\\c550e97fdf155d1d4d8cb01e4eb1c712d2cd01\n",
      " 2  985e82  291 Bytes  2020-02-12 17:43:40  D:\\Trust\\Files\\OneDrive 2018-2019\\Other\\humpack\\git\\.git\\objects\\d5\n",
      "                       2019-10-05 00:31:54  D:\\Trust\\Files\\Nextcloud 2019-2020\\projects\\humpack\\.git\\objects\\d5\\8444303c0192ac3ff29f94f8745b1a8ef67cec\n",
      " 2  1c9e35  258 Bytes  2020-02-12 17:43:40  D:\\Trust\\Files\\OneDrive 2018-2019\\Other\\humpack\\git\\.git\\objects\\9c\n",
      "                       2020-01-14 01:27:29  D:\\Trust\\Files\\Nextcloud 2019-2020\\projects\\humpack\\.git\\objects\\9c\\1e4f2a0dae7ac1532ad195b586db6558ff3d00\n",
      " 2  5c41e8  251 Bytes  2020-02-12 17:43:40  D:\\Trust\\Files\\OneDrive 2018-2019\\Other\\humpack\\git\\.git\\objects\\f0\n",
      "                       2019-12-27 15:11:06  D:\\Trust\\Files\\Nextcloud 2019-2020\\projects\\humpack\\.git\\objects\\f0\\3bcc95cb1d2654ccb0f3687b52f5c4f2cef22e\n",
      " 2  7aa961  212 Bytes  2020-02-12 17:43:40  D:\\Trust\\Files\\OneDrive 2018-2019\\Other\\humpack\\git\\.git\\objects\\7c\n",
      "                       2019-10-08 10:08:34  D:\\Trust\\Files\\Nextcloud 2019-2020\\projects\\humpack\\.git\\objects\\7c\\d7e03580c9d163c07571e5e4cae67e053adc87\n",
      " 2  24427f  212 Bytes  2020-02-12 17:43:40  D:\\Trust\\Files\\OneDrive 2018-2019\\Other\\humpack\\git\\.git\\objects\\ac\n",
      "                       2019-10-05 00:08:24  D:\\Trust\\Files\\Nextcloud 2019-2020\\projects\\humpack\\.git\\objects\\ac\\5cca772bf75cab9d9c666c472048cadfc42d89\n",
      " 2  56f922  186 Bytes  2020-02-12 17:43:40  D:\\Trust\\Files\\OneDrive 2018-2019\\Other\\humpack\\git\\.git\\objects\\26\n",
      "                       2019-10-05 00:30:09  D:\\Trust\\Files\\Nextcloud 2019-2020\\projects\\humpack\\.git\\objects\\26\\e67382b936b5ad2941cc0418f0bb67d40e2ad7\n",
      " 2  96063f  186 Bytes  2020-02-12 17:43:40  D:\\Trust\\Files\\OneDrive 2018-2019\\Other\\humpack\\git\\.git\\objects\\a4\n",
      "                       2019-10-04 23:24:08  D:\\Trust\\Files\\Nextcloud 2019-2020\\projects\\humpack\\.git\\objects\\a4\\05048ef2ffe49aa1cd549ff9739f8f889e6f5b\n",
      " 2  c7042c  185 Bytes  2020-02-12 17:43:40  D:\\Trust\\Files\\OneDrive 2018-2019\\Other\\humpack\\git\\.git\\objects\\60\n",
      "                       2019-10-05 00:08:24  D:\\Trust\\Files\\Nextcloud 2019-2020\\projects\\humpack\\.git\\objects\\60\\3cab41351428a133a49a37c355d226be9c028f\n",
      " 2  9ef89a  185 Bytes  2020-02-12 17:43:40  D:\\Trust\\Files\\OneDrive 2018-2019\\Other\\humpack\\git\\.git\\objects\\65\n",
      "                       2019-10-03 23:17:48  D:\\Trust\\Files\\Nextcloud 2019-2020\\projects\\humpack\\.git\\objects\\65\\36b649ae19223ea2e702033523cf24026cbb28\n",
      " 2  5f15fd  184 Bytes  2020-02-12 17:43:40  D:\\Trust\\Files\\OneDrive 2018-2019\\Other\\humpack\\git\\.git\\objects\\c3\n",
      "                       2019-09-30 23:50:14  D:\\Trust\\Files\\Nextcloud 2019-2020\\projects\\humpack\\.git\\objects\\c3\\59d9dc8d90de209be9c8a0f0d4678c2e6a202e\n",
      " 2  f3613b  180 Bytes  2020-02-12 17:43:40  D:\\Trust\\Files\\OneDrive 2018-2019\\Other\\humpack\\git\\.git\\objects\\ae\n",
      "                       2019-10-08 10:08:32  D:\\Trust\\Files\\Nextcloud 2019-2020\\projects\\humpack\\.git\\objects\\ae\\3f27472265759fc7fff01048c5fe31717b4e53\n",
      " 3  88516a  167 Bytes  2019-01-18 08:45:45  D:\\Trust\\Files\\Research\\AIResearch\\ffjord\\.git\\logs\\HEAD\n",
      "                       2020-02-12 17:44:50  D:\\Trust\\Files\\Research\\AIResearch\\ffjord\\.git\\logs\\refs\\heads\n",
      "                       2019-01-18 08:45:45  D:\\Trust\\Files\\Research\\AIResearch\\ffjord\\.git\\logs\\refs\\remotes\\origin\\HEAD\n",
      " 2  c4cc9d  152 Bytes  2020-02-12 17:43:40  D:\\Trust\\Files\\OneDrive 2018-2019\\Other\\humpack\\git\\.git\\objects\\12\n",
      "                       2019-09-29 15:19:04  D:\\Trust\\Files\\Nextcloud 2019-2020\\projects\\humpack\\.git\\objects\\12\\30344c22b02db438dff6c8b9b85dd188ad8c56\n",
      " 2  5c5c84  152 Bytes  2020-02-12 17:43:40  D:\\Trust\\Files\\OneDrive 2018-2019\\Other\\humpack\\git\\.git\\objects\\22\n",
      "                       2019-09-29 14:05:41  D:\\Trust\\Files\\Nextcloud 2019-2020\\projects\\humpack\\.git\\objects\\22\\cab59ae5a3b327a6594a176a3c2d3c502d7ab4\n",
      " 2  b11888  151 Bytes  2020-02-12 17:43:40  D:\\Trust\\Files\\OneDrive 2018-2019\\Other\\humpack\\git\\.git\\objects\\79\n",
      "                       2019-10-18 00:04:58  D:\\Trust\\Files\\Nextcloud 2019-2020\\projects\\humpack\\.git\\objects\\79\\517efaf311a929fb39b3d14274676abff3dd63\n",
      " 2  93aac1  144 Bytes  2020-02-12 17:43:39  D:\\Trust\\Files\\OneDrive 2018-2019\\Other\\humpack\\git\\.git\\objects\\00\n",
      "                       2019-10-05 00:32:03  D:\\Trust\\Files\\Nextcloud 2019-2020\\projects\\humpack\\.git\\objects\\00\\daf7df0c499c47b9a19dd6f91c3eac2571a571\n",
      " 2  14b735  142 Bytes  2020-02-12 17:43:40  D:\\Trust\\Files\\OneDrive 2018-2019\\Other\\humpack\\git\\.git\\objects\\3f\n",
      "                       2019-10-08 10:08:32  D:\\Trust\\Files\\Nextcloud 2019-2020\\projects\\humpack\\.git\\objects\\3f\\bd2132f6cc0c9a5fc74fc727891187acde89d6\n",
      " 2  bb6882  142 Bytes  2020-02-12 17:43:40  D:\\Trust\\Files\\OneDrive 2018-2019\\Other\\humpack\\git\\.git\\objects\\45\n",
      "                       2019-09-29 18:48:00  D:\\Trust\\Files\\Nextcloud 2019-2020\\projects\\humpack\\.git\\objects\\45\\88dab9c36a77103668e2f303c04ea8de78604f\n",
      " 2  eaa9eb  137 Bytes  2020-02-12 17:43:40  D:\\Trust\\Files\\OneDrive 2018-2019\\Other\\humpack\\git\\.git\\objects\\4e\n",
      "                       2019-09-29 15:13:32  D:\\Trust\\Files\\Nextcloud 2019-2020\\projects\\humpack\\.git\\objects\\4e\\bf1f87deeea4f1727d9ef37003836d0a3c608b\n",
      "18  a526b9  129 Bytes  2009-02-24 21:30:44  D:\\Trust\\Files\\King\\Kingston\\school docs\\all\\s-FLEEB\\$RECYCLE.BIN\\desktop.ini\n",
      "                       2009-02-24 21:30:44  D:\\Trust\\Files\\King\\Kingston\\school docs\\rjh\\s-FLEEB\\$RECYCLE.BIN\\desktop.ini\n",
      "                       2009-02-24 21:30:44  D:\\Trust\\Files\\New King\\Kingston\\school docs\\all\\s-FLEEB\\$RECYCLE.BIN\\desktop.ini\n",
      "                       2009-02-24 21:30:44  D:\\Trust\\Files\\New King\\Kingston\\school docs\\rjh\\s-FLEEB\\$RECYCLE.BIN\\desktop.ini\n",
      "                       2009-02-24 20:30:42  D:\\Trust\\Files\\King\\Kingston\\school docs\\rjh\\s-FLEEB\\My Pictures\\$RECYCLE.BIN\\desktop.ini\n",
      "                       2009-02-24 20:30:42  D:\\Trust\\Files\\New King\\Kingston\\school docs\\rjh\\s-FLEEB\\My Pictures\\$RECYCLE.BIN\\desktop.ini\n",
      "                       2009-02-24 22:30:44  D:\\Trust\\Files\\King\\Anwang\\for Vienna\\Documents\\school docs\\all\\s-FLEEB\\$RECYCLE.BIN\\desktop.ini\n",
      "                       2009-02-24 22:30:44  D:\\Trust\\Files\\King\\Anwang\\for Vienna\\Documents\\school docs\\rjh\\s-FLEEB\\$RECYCLE.BIN\\desktop.ini\n",
      "                       2009-02-24 22:30:44  D:\\Trust\\Files\\New King\\Anwang\\for Vienna\\Documents\\school docs\\all\\s-FLEEB\\$RECYCLE.BIN\\desktop.ini\n",
      "                       2009-02-24 22:30:44  D:\\Trust\\Files\\New King\\Anwang\\for Vienna\\Documents\\school docs\\rjh\\s-FLEEB\\$RECYCLE.BIN\\desktop.ini\n",
      "                       2020-02-12 17:34:28  D:\\Trust\\Files\\King\\Anwang\\for Vienna\\Documents\\Documents\\school docs\\rjh\\s-FLEEB\\$RECYCLE.BIN\n",
      "                       2020-02-12 17:38:15  D:\\Trust\\Files\\New King\\Anwang\\for Vienna\\Documents\\Documents\\school docs\\rjh\\s-FLEEB\\$RECYCLE.BIN\n",
      "                       2009-02-24 20:30:44  D:\\Trust\\Files\\King\\Sandisk\\Semester 1\\Old\\school docs\\all\\s-FLEEB\\$RECYCLE.BIN\\desktop.ini\n",
      "                       2009-02-24 20:30:42  D:\\Trust\\Files\\King\\Sandisk\\Semester 1\\Old\\school docs\\all\\My Pictures\\$RECYCLE.BIN\\desktop.ini\n",
      "                       2009-02-24 21:30:44  D:\\Trust\\Files\\King\\Sandisk All\\2010-11\\Semester 1\\Old\\school docs\\all\\s-FLEEB\\$RECYCLE.BIN\\desktop.ini\n",
      "                       2009-02-24 21:30:44  D:\\Trust\\Files\\King\\Sandisk All\\2010-11\\Semester 1\\Old\\school docs\\rjh\\s-FLEEB\\$RECYCLE.BIN\\desktop.ini\n",
      "                       2009-02-24 21:30:42  D:\\Trust\\Files\\King\\Sandisk All\\2010-11\\Semester 1\\Old\\school docs\\all\\My Pictures\\$RECYCLE.BIN\\desktop.ini\n",
      "                       2009-02-24 20:30:42  D:\\Trust\\Files\\King\\Sandisk All\\2010-11\\Semester 1\\Old\\school docs\\rjh\\s-FLEEB\\My Pictures\\$RECYCLE.BIN\\desktop.ini\n",
      " 2  af1d2c  128 Bytes  2016-09-29 07:18:29  D:\\Trust\\Files\\OneDrive 2016-2017\\Fall\\Algorithms\\git\\p1\\.git\\logs\\HEAD\n",
      "                       2020-02-12 17:40:18  D:\\Trust\\Files\\OneDrive 2016-2017\\Fall\\Algorithms\\git\\p1\\.git\\logs\\refs\\heads\n",
      "--  ------  ---------  -------------------  -------------------------------------------------------------------------------------------------------------------\n"
     ]
    }
   ],
   "source": [
    "print(tabulate([\n",
    "\t[\n",
    "\t\tlen(cluster),\n",
    "\t\tget_info(cluster[0])['code'][:6],\n",
    "\t\thumanize.naturalsize(get_info(cluster[0])['size']),\n",
    "\t # p.relative_to(base)\n",
    "\t\t'\\n'.join(get_info(p)['modtime'].strftime('%Y-%m-%d %H:%M:%S') for p in cluster),\n",
    "\t\t '\\n'.join(str(p) for p in cluster), \n",
    "\t\t#p.relative_to(base),\n",
    "\t\t# f'{p.name}\\n{p.relative_to(base)}', \n",
    "\t ] \n",
    "\tfor code, cluster in sorted(codes.items(), key=lambda item: (get_info(item[1][0])['size'], len(item[1])), reverse=True)[:100]]))\n",
    "\t# for code, cluster in sorted(codes.items(), key=lambda item: infos[item[1][0]]['size'], reverse=True)[:100]], headers=['code', 'size', 'modtime', 'path']))"
   ],
   "metadata": {
    "collapsed": false,
    "ExecuteTime": {
     "end_time": "2023-11-15T23:55:21.352511900Z",
     "start_time": "2023-11-15T23:55:21.302403500Z"
    }
   },
   "id": "db03c4f9dc637e00"
  },
  {
   "cell_type": "code",
   "execution_count": 9,
   "outputs": [],
   "source": [
    "# print(tabulate([\n",
    "# \t[\n",
    "# \t  info['code'][:6], \n",
    "# \t humanize.naturalsize(info['size']), \n",
    "# \t  info['modtime'].strftime('%Y-%m-%d %H:%M:%S'), \n",
    "# \t # p.relative_to(base)\n",
    "# \t\t p, #p.relative_to(base),\n",
    "# \t\t# f'{p.name}\\n{p.relative_to(base)}', \n",
    "# \t ] \n",
    "# \tfor p, info in sorted(infos.items(), key=lambda item: item[1]['size'], reverse=True)[:100]], headers=['code', 'size', 'modtime', 'path']))"
   ],
   "metadata": {
    "collapsed": false,
    "ExecuteTime": {
     "end_time": "2023-11-15T23:55:21.352511900Z",
     "start_time": "2023-11-15T23:55:21.309716300Z"
    }
   },
   "id": "e0904190517c9178"
  },
  {
   "cell_type": "code",
   "execution_count": 10,
   "outputs": [],
   "source": [
    "bad_key = '00000000000000000000000000000000'"
   ],
   "metadata": {
    "collapsed": false,
    "ExecuteTime": {
     "end_time": "2023-11-15T23:55:21.352511900Z",
     "start_time": "2023-11-15T23:55:21.315958600Z"
    }
   },
   "id": "5089bfe0d7dd9793"
  },
  {
   "cell_type": "code",
   "execution_count": 18,
   "outputs": [
    {
     "data": {
      "text/plain": "38"
     },
     "execution_count": 18,
     "metadata": {},
     "output_type": "execute_result"
    }
   ],
   "source": [
    "hits = [{'path': path, 'size': size, 'modtime': datetime.fromtimestamp(modtime)} for path, (size, modtime) in db.find_duplicates(bad_key)]\n",
    "hits = sorted(hits, key=lambda info: info['size'], reverse=True)\n",
    "len(hits)"
   ],
   "metadata": {
    "collapsed": false,
    "ExecuteTime": {
     "end_time": "2023-11-15T23:58:54.369629500Z",
     "start_time": "2023-11-15T23:58:54.347729700Z"
    }
   },
   "id": "1fb00784cf29b62f"
  },
  {
   "cell_type": "code",
   "execution_count": 17,
   "outputs": [
    {
     "name": "stdout",
     "output_type": "stream",
     "text": [
      "--------  -------------------  -------------------------------------------------------------------------------------------------------------------------------\n",
      "21389774  2020-02-12 17:40:00  D:\\Trust\\Files\\OneDrive 2015-2016\\Spring\\Physical Chemistry III\n",
      " 2350588  2020-02-12 17:45:48  D:\\Trust\\Files\\Research\\AIResearch\\pose_rl\\se3nets-pytorch\\cartpole\\saves\n",
      " 2350588  2020-02-12 17:46:02  D:\\Trust\\Files\\Research\\AIResearch\\se3_control\\cartpole\\ddpg_pendulum\\saves\n",
      "   86000  2020-02-12 18:05:04  D:\\Trust\\Files\\Skydrive 2014-2015\\Other\\nand2tetris\\tools\\builtInChips\n",
      "   32768  2020-02-12 17:32:54  D:\\Trust\\Files\\Khan 2012\\Other\\Games\\.Minecraft usb\\data\\Microsoft\\Windows\\IETldCache\n",
      "   32768  2020-02-12 01:39:58  D:\\Trust\\Stuff\\Games\\.Minecraft usb\\data\\Microsoft\\Windows\\IETldCache\n",
      "   28512  2020-02-12 17:45:18  D:\\Trust\\Files\\Research\\AIResearch\\foundation\\results\\old\\test-walking\\Jun-04-2018-184914\n",
      "   28512  2020-02-12 17:45:20  D:\\Trust\\Files\\Research\\AIResearch\\foundation\\results\\test-walking\\Jun-04-2018-184914\n",
      "   28506  2020-02-12 17:45:18  D:\\Trust\\Files\\Research\\AIResearch\\foundation\\results\\old\\test-walking\\Jun-04-2018-185043\n",
      "   28506  2020-02-12 17:45:20  D:\\Trust\\Files\\Research\\AIResearch\\foundation\\results\\test-walking\\Jun-04-2018-185043\n",
      "   16056  2020-02-12 17:45:17  D:\\Trust\\Files\\Research\\AIResearch\\foundation\\results\\old\\test-single-walking\\Jun-04-2018-204902\n",
      "   16056  2020-02-12 17:45:20  D:\\Trust\\Files\\Research\\AIResearch\\foundation\\results\\test-single-walking\\Jun-04-2018-204902\n",
      "    5268  2020-02-12 17:47:13  D:\\Trust\\Files\\Research\\MDResearch\\alkanes\\old ab initio\\class files\\Tutorial1\n",
      "    2664  2020-02-12 17:41:46  D:\\Trust\\Files\\OneDrive 2016-2017\\Winter\\Artificial Intelligence\\__MACOSX\\classification\\pacmandata\n",
      "    2220  2020-02-12 17:41:46  D:\\Trust\\Files\\OneDrive 2016-2017\\Winter\\Artificial Intelligence\\__MACOSX\\classification\\layouts\n",
      "    1194  2020-02-12 01:39:57  D:\\Trust\\Stuff\\Games\\.Minecraft usb\\data\\.minecraft\\stats\n",
      "     888  2020-02-12 17:43:14  D:\\Trust\\Files\\OneDrive 2018-2019\\Fall\\Machine Learning\\hw2\\yelp_data\\__MACOSX\n",
      "     418  2020-02-12 20:06:59  D:\\Trust\\Files\\Nextcloud 2019-2020\\research\\clones\\pytorch-a2c-ppo-acktr-gail\\.git\\logs\\refs\n",
      "     376  2020-02-12 20:06:58  D:\\Trust\\Files\\Nextcloud 2019-2020\\research\\clones\\baselines_tf1\\.git\\logs\\refs\n",
      "     374  2020-02-12 17:42:16  D:\\Trust\\Files\\OneDrive 2017-2018\\Spring\\Big Data ML\\coco\\cocoapi\\.git\\logs\\refs\n",
      "     368  2020-02-12 17:45:57  D:\\Trust\\Files\\Research\\AIResearch\\rl\\trpo\\imitation\\.git\\logs\\refs\n",
      "     364  2020-02-12 17:45:54  D:\\Trust\\Files\\Research\\AIResearch\\rl\\ddpg\\DDPG\\.git\\logs\\refs\n",
      "     362  2020-02-12 17:46:59  D:\\Trust\\Files\\Research\\MDResearch\\alkanes\\amberff\\.git\\logs\\refs\n",
      "     356  2020-02-12 17:42:41  D:\\Trust\\Files\\OneDrive 2017-2018\\Spring\\DeepRL\\linx\\drl_hw1\\.git\\logs\\refs\n",
      "     354  2020-02-12 20:06:54  D:\\Trust\\Files\\Nextcloud 2019-2020\\projects\\humpack\\extra\\legacy\\.git\\logs\\refs\n",
      "     354  2020-02-12 17:45:55  D:\\Trust\\Files\\Research\\AIResearch\\rl\\ddpg\\ddpg-original\\.git\\logs\\refs\n",
      "     352  2020-02-12 17:46:54  D:\\Trust\\Files\\Research\\AIResearch\\torchdiffeq\\.git\\logs\\refs\n",
      "     350  2020-02-12 17:43:41  D:\\Trust\\Files\\OneDrive 2018-2019\\Other\\jupyterlab_json\\.git\\logs\\refs\n",
      "     344  2020-02-12 20:07:10  D:\\Trust\\Files\\Nextcloud 2019-2020\\research\\torchdiffeq\\.git\\logs\\refs\n",
      "     344  2020-02-12 17:43:18  D:\\Trust\\Files\\OneDrive 2018-2019\\Fall\\Programming Languages\\frap\\.git\\logs\\refs\n",
      "     334  2020-02-12 17:45:15  D:\\Trust\\Files\\Research\\AIResearch\\foundation\\gym\\.git\\logs\\refs\n",
      "     334  2020-02-12 18:03:03  D:\\Trust\\Files\\Research\\QMResearch\\dds_disc\\elua\\.git\\logs\\refs\n",
      "     288  2020-02-12 17:32:53  D:\\Trust\\Files\\Khan 2012\\Other\\Games\\.Minecraft usb\\data\\.minecraft\\stats\n",
      "     144  2020-02-12 17:45:49  D:\\Trust\\Files\\Research\\AIResearch\\pose_rl\\se3nets-pytorch\\push_render\\.ipynb_checkpoints\n",
      "      52  2020-02-12 17:41:21  D:\\Trust\\Files\\OneDrive 2016-2017\\Summer\\Software Engineering\\android\\CampusPaths\\app\\build\\intermediates\\incremental-safeguard\n",
      "      52  2020-02-12 17:42:51  D:\\Trust\\Files\\OneDrive 2017-2018\\Summer\\Software Engineering\\android\\CampusPaths\\app\\build\\intermediates\\incremental-safeguard\n",
      "       0  2020-02-12 20:06:50  D:\\Trust\\Files\\Nextcloud 2019-2020\\projects\\gsm\\extra\\doc_example\\lib\\ai\\search\n",
      "       0  2020-02-12 20:06:51  D:\\Trust\\Files\\Nextcloud 2019-2020\\projects\\gsm\\gsm\\ai\\search\n",
      "--------  -------------------  -------------------------------------------------------------------------------------------------------------------------------\n"
     ]
    }
   ],
   "source": [
    "print(tabulate([(info['size'], info['modtime'].strftime('%Y-%m-%d %H:%M:%S'), info['path']) for info in hits]))"
   ],
   "metadata": {
    "collapsed": false,
    "ExecuteTime": {
     "end_time": "2023-11-15T23:58:19.638709100Z",
     "start_time": "2023-11-15T23:58:19.616271900Z"
    }
   },
   "id": "86c8b65f70425a50"
  },
  {
   "cell_type": "code",
   "execution_count": 22,
   "outputs": [
    {
     "name": "stdout",
     "output_type": "stream",
     "text": [
      "D:\\Trust\\Files\\OneDrive 2015-2016\\Spring\\Physical Chemistry III\n"
     ]
    }
   ],
   "source": [
    "path = hits[0]['path']\n",
    "print(path)"
   ],
   "metadata": {
    "collapsed": false,
    "ExecuteTime": {
     "end_time": "2023-11-16T00:01:41.375340300Z",
     "start_time": "2023-11-16T00:01:41.366315600Z"
    }
   },
   "id": "a9acdeaed0c95a91"
  },
  {
   "cell_type": "code",
   "execution_count": 23,
   "outputs": [
    {
     "data": {
      "text/plain": "(WindowsPath('D:/Trust/Files/OneDrive 2015-2016/Spring/Physical Chemistry III'),\n ('00000000000000000000000000000000', (21389774, 1581525600.44344)))"
     },
     "execution_count": 23,
     "metadata": {},
     "output_type": "execute_result"
    }
   ],
   "source": [
    "db.process_dir(path)"
   ],
   "metadata": {
    "collapsed": false,
    "ExecuteTime": {
     "end_time": "2023-11-16T00:01:59.907602Z",
     "start_time": "2023-11-16T00:01:59.895086700Z"
    }
   },
   "id": "f1746546d1aa1afc"
  },
  {
   "cell_type": "code",
   "execution_count": 25,
   "outputs": [
    {
     "data": {
      "text/plain": "31"
     },
     "execution_count": 25,
     "metadata": {},
     "output_type": "execute_result"
    }
   ],
   "source": [
    "hcodes = []\n",
    "contents = []\n",
    "for content_path in path.iterdir():\n",
    "\tinfo = db.find_path(content_path)\n",
    "\thcodes.append(info[0])\n",
    "\tif info is None:\n",
    "\t\traise ValueError(f'Missing path: {content_path}')\n",
    "\tcontents.append(info)\n",
    "len(contents)"
   ],
   "metadata": {
    "collapsed": false,
    "ExecuteTime": {
     "end_time": "2023-11-16T00:05:29.185935900Z",
     "start_time": "2023-11-16T00:05:29.158130600Z"
    }
   },
   "id": "d6ddf501c7a053cb"
  },
  {
   "cell_type": "code",
   "execution_count": 27,
   "outputs": [
    {
     "data": {
      "text/plain": "'daf43079abb9ecceb45d79eb8bbc697b'"
     },
     "execution_count": 27,
     "metadata": {},
     "output_type": "execute_result"
    }
   ],
   "source": [
    "misc.xor_hexdigests(hcodes[0], hcodes[1])"
   ],
   "metadata": {
    "collapsed": false,
    "ExecuteTime": {
     "end_time": "2023-11-16T00:06:12.663576Z",
     "start_time": "2023-11-16T00:06:12.657883500Z"
    }
   },
   "id": "b678d5448c1b6e14"
  },
  {
   "cell_type": "code",
   "execution_count": 30,
   "outputs": [
    {
     "data": {
      "text/plain": "['daf43079abb9ecceb45d79eb8bbc697b',\n '19af21b69c4a2efc980cff1745d02827',\n 'c2dda6b796766ef84890042e50972dff',\n '30070f29fa03db17f14b9b4cf0958677',\n '2a5b309f667e8bd68e20903f370f26d9',\n '10679555182ce40db95bf300c2f8e2c5',\n '2a5b309f667e8bd68e20903f370f26d9',\n '1554f5249ef10b2f1884f53f336c3c60',\n '29d81099ec40ffcc1df1e9db0f6a9a92',\n '7450bce3b03916a2412fe9296c7f52bd',\n '29d81099ec40ffcc1df1e9db0f6a9a92',\n 'ccee03397c35ac5042156b9e72f4b3d4',\n '29d81099ec40ffcc1df1e9db0f6a9a92',\n '66d48a88835b1525f1469b34421be763',\n '50d92444e19426b5ee9f6bd433bd3667',\n '13ab15a42adcc59307101d03dbaccf9d',\n '07fd5da9e3727956533463ef7d8e0316',\n '36d0ef8b3918c54fe4f98bb62ba77afa',\n 'ea3196e80851115cf4589fc734b9ea9e',\n 'd2b434f131f3f24b2c872cbfdf1c7648',\n 'a93e913dc5258eb864490868e9a73ae0',\n '6f3fba7602cd6807be9d1c1420fd0455',\n '09b3ae513020aa4cc17cdff79fc2e202',\n '8d269cd4ec0757a7becf3c12163f2728',\n '91f7d8ad0977a00a46552665b1c107b8',\n '488c205f95f7fed083216cb858c72cc1',\n '4037295bc2366700ae01b9ab31410168',\n 'f448a16ba4aea0de172fcbecd161e108',\n '2a7f209558cb2096b4c7a1e1e2ad0257',\n '00000000000000000000000000000000']"
     },
     "execution_count": 30,
     "metadata": {},
     "output_type": "execute_result"
    }
   ],
   "source": [
    "progress = []\n",
    "c = hcodes[0]\n",
    "for h in hcodes[1:]:\n",
    "\tc = misc.xor_hexdigests(c, h)\n",
    "\tprogress.append(c)\n",
    "progress#[-1]"
   ],
   "metadata": {
    "collapsed": false,
    "ExecuteTime": {
     "end_time": "2023-11-16T00:08:33.674373400Z",
     "start_time": "2023-11-16T00:08:33.661239Z"
    }
   },
   "id": "1b2db31625e1ecfe"
  },
  {
   "cell_type": "code",
   "execution_count": 31,
   "outputs": [
    {
     "data": {
      "text/plain": "'2a7f209558cb2096b4c7a1e1e2ad0257'"
     },
     "execution_count": 31,
     "metadata": {},
     "output_type": "execute_result"
    }
   ],
   "source": [
    "hcodes[-1]"
   ],
   "metadata": {
    "collapsed": false,
    "ExecuteTime": {
     "end_time": "2023-11-16T00:08:44.728583200Z",
     "start_time": "2023-11-16T00:08:44.725433500Z"
    }
   },
   "id": "c675c2d91e640ae3"
  },
  {
   "cell_type": "code",
   "execution_count": 32,
   "outputs": [],
   "source": [
    "from collections import Counter"
   ],
   "metadata": {
    "collapsed": false,
    "ExecuteTime": {
     "end_time": "2023-11-16T00:10:58.773224300Z",
     "start_time": "2023-11-16T00:10:58.761699700Z"
    }
   },
   "id": "5eeddc22b8a2df39"
  },
  {
   "cell_type": "code",
   "execution_count": 33,
   "outputs": [
    {
     "data": {
      "text/plain": "Counter({'3a3ca5ca7e526fdb377b633ff5f7c41c': 2,\n         '5d88ac7a5c79e96e5cde00f26315c82f': 2,\n         'e53613a09075539c5fe482457d9e2946': 2,\n         '7495dd3e7fb7fa2f2436fe244c64cffd': 1,\n         'ae61ed47d40e16e1906b87cfc7d8a686': 1,\n         'c35b11cf37f3c2322c5186fcce6c415c': 1,\n         'db7287010a3c4004d09cfb39154705d8': 1,\n         'f2daa99e6c75b5efb9db9f62a002ab88': 1,\n         '1a5c3fb69c7d50c17f6b0b73c79aa0ae': 1,\n         '3f0fc5bbf88f80f996a4650004631ab9': 1,\n         '3c8ce5bd72b1f4e305751ce43c06a6f2': 1,\n         '4f0c9a116f1beae9ecb772ef4d717df1': 1,\n         '360daecc62cf33901fd9f0e071a6d104': 1,\n         '437231e0cb48e326e98f76d7e811f9fa': 1,\n         '1456480dc9aebcc554247eeca622cc8b': 1,\n         '312db222da6abc19b7cde859562979ec': 1,\n         'dce179633149d41310a114711f1e9064': 1,\n         '3885a21939a2e317d8dfb378eba59cd6': 1,\n         '7b8aa5ccf4d67cf348ce24d736bb4ca8': 1,\n         'c6012b4bc7e8e6bfdad4147cc95a3eb5': 1,\n         '668c142732edc24b7fe1c3e3bf3fe657': 1,\n         '84953285dc27fdeb7fb3e3e589fdc52a': 1,\n         '1cd14479e570f7adf89a1a77a7fe2090': 1,\n         'd97bf8f29c805edac5744adde9062b79': 1,\n         '08bb090457c199d02d20d51369862da9': 1,\n         'b47f88306698c7deb92e7247e020e060': 1,\n         'de3781fefc658048a3e86a0d33cce35f': 1,\n         '2a7f209558cb2096b4c7a1e1e2ad0257': 1})"
     },
     "execution_count": 33,
     "metadata": {},
     "output_type": "execute_result"
    }
   ],
   "source": [
    "Counter(hcodes)"
   ],
   "metadata": {
    "collapsed": false,
    "ExecuteTime": {
     "end_time": "2023-11-16T00:11:02.939035600Z",
     "start_time": "2023-11-16T00:11:02.922001300Z"
    }
   },
   "id": "dd2c622b60ba5ec3"
  },
  {
   "cell_type": "code",
   "execution_count": 54,
   "outputs": [],
   "source": [
    "data = b''.join(bytes.fromhex(code) for code in sorted([]))"
   ],
   "metadata": {
    "collapsed": false,
    "ExecuteTime": {
     "end_time": "2023-11-16T00:31:06.185523100Z",
     "start_time": "2023-11-16T00:31:06.180301800Z"
    }
   },
   "id": "e709d826a0bb9f25"
  },
  {
   "cell_type": "code",
   "execution_count": 55,
   "outputs": [
    {
     "data": {
      "text/plain": "b''"
     },
     "execution_count": 55,
     "metadata": {},
     "output_type": "execute_result"
    }
   ],
   "source": [
    "data"
   ],
   "metadata": {
    "collapsed": false,
    "ExecuteTime": {
     "end_time": "2023-11-16T00:31:07.687313200Z",
     "start_time": "2023-11-16T00:31:07.684803200Z"
    }
   },
   "id": "1d8116a439a3fe21"
  },
  {
   "cell_type": "code",
   "execution_count": 38,
   "outputs": [
    {
     "data": {
      "text/plain": "'d41d8cd98f00b204e9800998ecf8427e'"
     },
     "execution_count": 38,
     "metadata": {},
     "output_type": "execute_result"
    }
   ],
   "source": [
    "ec = misc.md5_hash(b'')\n",
    "ec"
   ],
   "metadata": {
    "collapsed": false,
    "ExecuteTime": {
     "end_time": "2023-11-16T00:19:09.473102900Z",
     "start_time": "2023-11-16T00:19:09.465045300Z"
    }
   },
   "id": "ad3b41072d342761"
  },
  {
   "cell_type": "code",
   "execution_count": 42,
   "outputs": [
    {
     "data": {
      "text/plain": "'59adb24ef3cdbe0297f05b395827453f'"
     },
     "execution_count": 42,
     "metadata": {},
     "output_type": "execute_result"
    }
   ],
   "source": [
    "misc.md5_hash(bytes.fromhex(ec))"
   ],
   "metadata": {
    "collapsed": false,
    "ExecuteTime": {
     "end_time": "2023-11-16T00:20:33.194105800Z",
     "start_time": "2023-11-16T00:20:33.187304700Z"
    }
   },
   "id": "228c390d7f9db091"
  },
  {
   "cell_type": "code",
   "execution_count": 44,
   "outputs": [
    {
     "data": {
      "text/plain": "16"
     },
     "execution_count": 44,
     "metadata": {},
     "output_type": "execute_result"
    }
   ],
   "source": [
    "len(bytes.fromhex(ec))"
   ],
   "metadata": {
    "collapsed": false,
    "ExecuteTime": {
     "end_time": "2023-11-16T00:20:57.432160400Z",
     "start_time": "2023-11-16T00:20:57.385943600Z"
    }
   },
   "id": "581d559d61535e15"
  },
  {
   "cell_type": "code",
   "execution_count": null,
   "outputs": [],
   "source": [],
   "metadata": {
    "collapsed": false
   },
   "id": "ecf15b1c7c896e54"
  },
  {
   "cell_type": "code",
   "execution_count": null,
   "outputs": [],
   "source": [],
   "metadata": {
    "collapsed": false
   },
   "id": "cb980d6bf1de424a"
  },
  {
   "cell_type": "code",
   "execution_count": null,
   "outputs": [],
   "source": [],
   "metadata": {
    "collapsed": false
   },
   "id": "2d1dff64a32ecff0"
  },
  {
   "cell_type": "code",
   "execution_count": null,
   "outputs": [],
   "source": [],
   "metadata": {
    "collapsed": false
   },
   "id": "bdcc02509568d15a"
  }
 ],
 "metadata": {
  "kernelspec": {
   "display_name": "Python 3",
   "language": "python",
   "name": "python3"
  },
  "language_info": {
   "codemirror_mode": {
    "name": "ipython",
    "version": 2
   },
   "file_extension": ".py",
   "mimetype": "text/x-python",
   "name": "python",
   "nbconvert_exporter": "python",
   "pygments_lexer": "ipython2",
   "version": "2.7.6"
  }
 },
 "nbformat": 4,
 "nbformat_minor": 5
}
